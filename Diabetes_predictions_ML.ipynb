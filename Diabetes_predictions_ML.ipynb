{
  "nbformat": 4,
  "nbformat_minor": 0,
  "metadata": {
    "colab": {
      "provenance": []
    },
    "kernelspec": {
      "name": "python3",
      "display_name": "Python 3"
    },
    "language_info": {
      "name": "python"
    }
  },
  "cells": [
    {
      "cell_type": "markdown",
      "source": [
        "Tip #1: Create an outline for your notebook & for each section you start coding.\n",
        "\n",
        "Here's ab outline of the project.\n",
        "1. Download the dataset.\n",
        "2.Explore & analyze the dataset.\n",
        "3. Prepare the dataset for training.\n",
        "4. Train hardcoded & baseline models.\n",
        "5. Make predictions & submit to Kaggle.\n",
        "6. Perform feature engineering.\n",
        "7. Train & evaluate different models.\n",
        "8. Tune hyperparameter for the best models.\n",
        "9. Train on a GPU with the entire dataset.\n",
        "10. Document & publish the project online.\n"
      ],
      "metadata": {
        "id": "PzmVwxJrbsN-"
      }
    },
    {
      "cell_type": "code",
      "execution_count": 1,
      "metadata": {
        "colab": {
          "base_uri": "https://localhost:8080/"
        },
        "id": "I_f_h3QhZtqB",
        "outputId": "8edba2bd-a621-4e64-e774-f132f22fe532"
      },
      "outputs": [
        {
          "output_type": "stream",
          "name": "stdout",
          "text": [
            "\u001b[2K     \u001b[90m━━━━━━━━━━━━━━━━━━━━━━━━━━━━━━━━━━━━━━━━\u001b[0m \u001b[32m68.6/68.6 KB\u001b[0m \u001b[31m2.8 MB/s\u001b[0m eta \u001b[36m0:00:00\u001b[0m\n",
            "\u001b[2K     \u001b[90m━━━━━━━━━━━━━━━━━━━━━━━━━━━━━━━━━━━━━━━━\u001b[0m \u001b[32m17.3/17.3 MB\u001b[0m \u001b[31m31.5 MB/s\u001b[0m eta \u001b[36m0:00:00\u001b[0m\n",
            "\u001b[2K     \u001b[90m━━━━━━━━━━━━━━━━━━━━━━━━━━━━━━━━━━━━━━━━\u001b[0m \u001b[32m12.2/12.2 MB\u001b[0m \u001b[31m57.0 MB/s\u001b[0m eta \u001b[36m0:00:00\u001b[0m\n",
            "\u001b[?25h  Preparing metadata (setup.py) ... \u001b[?25l\u001b[?25hdone\n",
            "  Building wheel for uuid (setup.py) ... \u001b[?25l\u001b[?25hdone\n",
            "\u001b[31mERROR: pip's dependency resolver does not currently take into account all the packages that are installed. This behaviour is the source of the following dependency conflicts.\n",
            "numba 0.56.4 requires numpy<1.24,>=1.18, but you have numpy 1.24.2 which is incompatible.\u001b[0m\u001b[31m\n",
            "\u001b[0m"
          ]
        }
      ],
      "source": [
        "# Installing packages\n",
        "!pip install jovian numpy pandas opendatasets --upgrade --quiet"
      ]
    },
    {
      "cell_type": "code",
      "source": [
        "# Installing libraries\n",
        "import jovian\n",
        "import pandas as pd\n",
        "import opendatasets as od\n",
        "import numpy as np\n"
      ],
      "metadata": {
        "id": "fMirfPn6ZwRT"
      },
      "execution_count": 2,
      "outputs": []
    },
    {
      "cell_type": "code",
      "source": [],
      "metadata": {
        "id": "hTNNIxySbAa-"
      },
      "execution_count": null,
      "outputs": []
    }
  ]
}